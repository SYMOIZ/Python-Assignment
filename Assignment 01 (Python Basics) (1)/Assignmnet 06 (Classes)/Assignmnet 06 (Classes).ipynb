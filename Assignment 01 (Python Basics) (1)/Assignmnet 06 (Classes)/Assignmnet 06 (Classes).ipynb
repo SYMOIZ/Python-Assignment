{
 "cells": [
  {
   "cell_type": "markdown",
   "metadata": {
    "id": "XLFr4w_7OFN7"
   },
   "source": [
    "1. Write a Python program to create a class representing a Circle. Include methods to calculate its area and perimeter."
   ]
  },
  {
   "cell_type": "code",
   "execution_count": null,
   "metadata": {},
   "outputs": [],
   "source": [
    "\n",
    "class circle:\n",
    "    def __init__(self , radius):\n",
    "        self.radius = radius\n",
    "\n",
    "    def area(self):\n",
    "        return 3.14 * self.radius ** 2\n",
    "\n",
    "    def parameter(self):\n",
    "        return 2 * 3.142 * self.radius\n",
    "\n",
    "c1 = circle(5)\n",
    "print(\"Radius:\", c1.radius)\n",
    "print(\"Area:\", c1.area())\n",
    "print(\"Perimeter:\", c1.parameter())# Add your code here"
   ]
  },
  {
   "cell_type": "markdown",
   "metadata": {
    "id": "CBPk4mH4OTCO"
   },
   "source": [
    "2. Write a Python program to create a person class. Include attributes like name, country and date of birth. Implement a method to determine the person's age.\n"
   ]
  },
  {
   "cell_type": "code",
   "execution_count": null,
   "metadata": {},
   "outputs": [],
   "source": [
    "class person:\n",
    "    def __init__(self, name, age, country, dbo):\n",
    "        self.name = name\n",
    "        self.age = age\n",
    "        self.country = country\n",
    "        self.dbo = dbo\n",
    "\n",
    "    def display_age(self):\n",
    "        print(\"Age:\", self.age)\n",
    "\n",
    "p1 = person(\"Osman Rizz\", 21, \"Turkey\", \"01-01-2003\")\n",
    "p1.display_age()# Add your code here"
   ]
  },
  {
   "cell_type": "markdown",
   "metadata": {},
   "source": [
    "3. Write a Python program to create a calculator class. Include methods for basic arithmetic operations."
   ]
  },
  {
   "cell_type": "code",
   "execution_count": null,
   "metadata": {},
   "outputs": [],
   "source": [
    "# Add your code hereclass calculator:\n",
    "    def add(self, a, b):\n",
    "        return a + b\n",
    "\n",
    "    def subtract(self, a, b):\n",
    "        return a - b\n",
    "\n",
    "    def multiply(self, a, b):\n",
    "        return a * b\n",
    "\n",
    "    def divide(self, a, b):\n",
    "        if b != 0:\n",
    "            return a / b\n",
    "        else:\n",
    "            return \"Erro, Cant divide by zero\"\n",
    "\n",
    "c = calculator()\n",
    "\n",
    "print(f\"Addition: \\t{c.add(55, 3)}\")\n",
    "print(f\"Subtraction: \\t{c.subtract(5, 6.8)}\")\n",
    "print(f\"Multiplication: \\t{c.multiply(5, 9.7)}\")\n",
    "print(f\"Division: \\t{c.divide(5, 44)}\")"
   ]
  }
 ],
 "metadata": {
  "colab": {
   "provenance": []
  },
  "kernelspec": {
   "display_name": "Python 3 (ipykernel)",
   "language": "python",
   "name": "python3"
  },
  "language_info": {
   "codemirror_mode": {
    "name": "ipython",
    "version": 3
   },
   "file_extension": ".py",
   "mimetype": "text/x-python",
   "name": "python",
   "nbconvert_exporter": "python",
   "pygments_lexer": "ipython3",
   "version": "3.13.6"
  }
 },
 "nbformat": 4,
 "nbformat_minor": 4
}
