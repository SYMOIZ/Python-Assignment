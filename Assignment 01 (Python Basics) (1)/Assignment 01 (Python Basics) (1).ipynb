{
 "cells": [
  {
   "cell_type": "markdown",
   "metadata": {},
   "source": [
    "# Part -1 Python Basics (Variables)"
   ]
  },
  {
   "cell_type": "markdown",
   "metadata": {},
   "source": [
    "1. Print Your Name with your Father name and Date of birth using suitable escape sequence charactor"
   ]
  },
  {
   "cell_type": "code",
   "execution_count": 1,
   "metadata": {},
   "outputs": [
    {
     "name": "stdout",
     "output_type": "stream",
     "text": [
      "My Name is Moiz,\n",
      "\tMy Father Name: Musharraf,\n",
      "\t\tDate: 2 June 2003\n"
     ]
    }
   ],
   "source": [
    "name = \"Moiz\"\n",
    "father_name = \"Musharraf\"\n",
    "date = \"2 June 2003\"\n",
    "\n",
    "print(f\"My Name is {name},\\n\\tMy Father Name: {father_name},\\n\\t\\tDate: {date}\")\n"
   ]
  },
  {
   "cell_type": "markdown",
   "metadata": {},
   "source": [
    "2. Write your small bio using variables and print it using print function"
   ]
  },
  {
   "cell_type": "code",
   "execution_count": 2,
   "metadata": {},
   "outputs": [
    {
     "name": "stdout",
     "output_type": "stream",
     "text": [
      "15\n",
      "-5\n",
      "50\n",
      "0.5\n",
      "0\n",
      "5\n",
      "9765625\n",
      "False\n",
      "False\n",
      "True\n",
      "0.1 50\n"
     ]
    }
   ],
   "source": [
    "a = 5 \n",
    "b = 10\n",
    "\n",
    "print(a + b)    # Addition\n",
    "print(a - b)    # Subtraction\n",
    "print(a * b)    # Multiplication\n",
    "print(a / b)    # Division\n",
    "print(a // b)   # Floor Division\n",
    "print(a % b)    # Modulus\n",
    "print(a ** b)   # Exponent\n",
    "\n",
    "print(a > b)    # Greater than\n",
    "print(a == b)   # Equal\n",
    "print(a != b)   # Not equal\n",
    "\n",
    "b *= a          # Assignment operator\n",
    "a /= b\n",
    "print(a, b)\n"
   ]
  },
  {
   "cell_type": "markdown",
   "metadata": {},
   "source": [
    "3. Write a program in which use all the operators we can use in Python"
   ]
  },
  {
   "cell_type": "code",
   "execution_count": 3,
   "metadata": {},
   "outputs": [
    {
     "name": "stdout",
     "output_type": "stream",
     "text": [
      "Obtained: 178\n",
      "Percentage: 59.333333333333336\n"
     ]
    }
   ],
   "source": [
    "m1 = 22\n",
    "m2 = 78\n",
    "m3 = 78\n",
    "\n",
    "total_marks = 300\n",
    "obtained = m1 + m2 + m3\n",
    "percentage = (obtained / total_marks) * 100\n",
    "\n",
    "print(\"Obtained:\", obtained)\n",
    "print(\"Percentage:\", percentage)\n"
   ]
  },
  {
   "cell_type": "markdown",
   "metadata": {},
   "source": [
    "4. Completes the following steps of small task:\n",
    "    - Mention Marks of English , Islamiat and Maths out of 100 in 3 different variables\n",
    "    - Mention Variable of Total Marks and assign 300 to it\n",
    "    - Calculate Percentage"
   ]
  },
  {
   "cell_type": "code",
   "execution_count": 4,
   "metadata": {},
   "outputs": [
    {
     "name": "stdin",
     "output_type": "stream",
     "text": [
      "Enter years of service:  5\n",
      "Enter your salary:  1000\n"
     ]
    },
    {
     "name": "stdout",
     "output_type": "stream",
     "text": [
      "You are not eligible\n"
     ]
    }
   ],
   "source": [
    "service = int(input(\"Enter years of service: \"))\n",
    "salary = int(input(\"Enter your salary: \"))\n",
    "\n",
    "if service > 5:\n",
    "    bonus = salary * 0.05\n",
    "    print(f\"Your Net Bonus Amount is: {bonus}\")\n",
    "else:\n",
    "    print(\"You are not eligible\")\n"
   ]
  }
 ],
 "metadata": {
  "kernelspec": {
   "display_name": "Python 3 (ipykernel)",
   "language": "python",
   "name": "python3"
  },
  "language_info": {
   "codemirror_mode": {
    "name": "ipython",
    "version": 3
   },
   "file_extension": ".py",
   "mimetype": "text/x-python",
   "name": "python",
   "nbconvert_exporter": "python",
   "pygments_lexer": "ipython3",
   "version": "3.13.6"
  }
 },
 "nbformat": 4,
 "nbformat_minor": 4
}
