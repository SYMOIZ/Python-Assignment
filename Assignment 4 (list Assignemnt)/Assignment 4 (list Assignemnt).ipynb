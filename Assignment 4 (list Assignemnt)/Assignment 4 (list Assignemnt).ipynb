{
 "cells": [
  {
   "cell_type": "markdown",
   "id": "b54e0955-19f2-4608-bd8e-acb671a0b14f",
   "metadata": {},
   "source": [
    "1. Write a program that accepts a list from user and print the alternate element of list. \n"
   ]
  },
  {
   "cell_type": "code",
   "id": "7d72e3ae-a100-4957-a379-fac4d3fd90ab",
   "metadata": {
    "ExecuteTime": {
     "end_time": "2025-10-04T15:02:56.377073Z",
     "start_time": "2025-10-04T15:02:54.618221Z"
    }
   },
   "source": [
    "my_list = input(\"Enter elements of list separated by space: \").split()\n",
    "print(\"Alternate elements of the list are:\")\n",
    "for i in range(0, len(my_list), 2):\n",
    "    print(my_list[i])\n"
   ],
   "outputs": [
    {
     "ename": "KeyboardInterrupt",
     "evalue": "Interrupted by user",
     "output_type": "error",
     "traceback": [
      "\u001B[31m---------------------------------------------------------------------------\u001B[39m",
      "\u001B[31mKeyboardInterrupt\u001B[39m                         Traceback (most recent call last)",
      "\u001B[36mCell\u001B[39m\u001B[36m \u001B[39m\u001B[32mIn[1]\u001B[39m\u001B[32m, line 1\u001B[39m\n\u001B[32m----> \u001B[39m\u001B[32m1\u001B[39m my_list = \u001B[38;5;28;43minput\u001B[39;49m\u001B[43m(\u001B[49m\u001B[33;43m\"\u001B[39;49m\u001B[33;43mEnter elements of list separated by space: \u001B[39;49m\u001B[33;43m\"\u001B[39;49m\u001B[43m)\u001B[49m.split()\n\u001B[32m      2\u001B[39m \u001B[38;5;28mprint\u001B[39m(\u001B[33m\"\u001B[39m\u001B[33mAlternate elements of the list are:\u001B[39m\u001B[33m\"\u001B[39m)\n\u001B[32m      3\u001B[39m \u001B[38;5;28;01mfor\u001B[39;00m i \u001B[38;5;129;01min\u001B[39;00m \u001B[38;5;28mrange\u001B[39m(\u001B[32m0\u001B[39m, \u001B[38;5;28mlen\u001B[39m(my_list), \u001B[32m2\u001B[39m):\n",
      "\u001B[36mFile \u001B[39m\u001B[32m~\\AppData\\Local\\Packages\\PythonSoftwareFoundation.Python.3.11_qbz5n2kfra8p0\\LocalCache\\local-packages\\Python311\\site-packages\\ipykernel\\kernelbase.py:1275\u001B[39m, in \u001B[36mKernel.raw_input\u001B[39m\u001B[34m(self, prompt)\u001B[39m\n\u001B[32m   1273\u001B[39m     msg = \u001B[33m\"\u001B[39m\u001B[33mraw_input was called, but this frontend does not support input requests.\u001B[39m\u001B[33m\"\u001B[39m\n\u001B[32m   1274\u001B[39m     \u001B[38;5;28;01mraise\u001B[39;00m StdinNotImplementedError(msg)\n\u001B[32m-> \u001B[39m\u001B[32m1275\u001B[39m \u001B[38;5;28;01mreturn\u001B[39;00m \u001B[38;5;28;43mself\u001B[39;49m\u001B[43m.\u001B[49m\u001B[43m_input_request\u001B[49m\u001B[43m(\u001B[49m\n\u001B[32m   1276\u001B[39m \u001B[43m    \u001B[49m\u001B[38;5;28;43mstr\u001B[39;49m\u001B[43m(\u001B[49m\u001B[43mprompt\u001B[49m\u001B[43m)\u001B[49m\u001B[43m,\u001B[49m\n\u001B[32m   1277\u001B[39m \u001B[43m    \u001B[49m\u001B[38;5;28;43mself\u001B[39;49m\u001B[43m.\u001B[49m\u001B[43m_parent_ident\u001B[49m\u001B[43m[\u001B[49m\u001B[33;43m\"\u001B[39;49m\u001B[33;43mshell\u001B[39;49m\u001B[33;43m\"\u001B[39;49m\u001B[43m]\u001B[49m\u001B[43m,\u001B[49m\n\u001B[32m   1278\u001B[39m \u001B[43m    \u001B[49m\u001B[38;5;28;43mself\u001B[39;49m\u001B[43m.\u001B[49m\u001B[43mget_parent\u001B[49m\u001B[43m(\u001B[49m\u001B[33;43m\"\u001B[39;49m\u001B[33;43mshell\u001B[39;49m\u001B[33;43m\"\u001B[39;49m\u001B[43m)\u001B[49m\u001B[43m,\u001B[49m\n\u001B[32m   1279\u001B[39m \u001B[43m    \u001B[49m\u001B[43mpassword\u001B[49m\u001B[43m=\u001B[49m\u001B[38;5;28;43;01mFalse\u001B[39;49;00m\u001B[43m,\u001B[49m\n\u001B[32m   1280\u001B[39m \u001B[43m\u001B[49m\u001B[43m)\u001B[49m\n",
      "\u001B[36mFile \u001B[39m\u001B[32m~\\AppData\\Local\\Packages\\PythonSoftwareFoundation.Python.3.11_qbz5n2kfra8p0\\LocalCache\\local-packages\\Python311\\site-packages\\ipykernel\\kernelbase.py:1320\u001B[39m, in \u001B[36mKernel._input_request\u001B[39m\u001B[34m(self, prompt, ident, parent, password)\u001B[39m\n\u001B[32m   1317\u001B[39m \u001B[38;5;28;01mexcept\u001B[39;00m \u001B[38;5;167;01mKeyboardInterrupt\u001B[39;00m:\n\u001B[32m   1318\u001B[39m     \u001B[38;5;66;03m# re-raise KeyboardInterrupt, to truncate traceback\u001B[39;00m\n\u001B[32m   1319\u001B[39m     msg = \u001B[33m\"\u001B[39m\u001B[33mInterrupted by user\u001B[39m\u001B[33m\"\u001B[39m\n\u001B[32m-> \u001B[39m\u001B[32m1320\u001B[39m     \u001B[38;5;28;01mraise\u001B[39;00m \u001B[38;5;167;01mKeyboardInterrupt\u001B[39;00m(msg) \u001B[38;5;28;01mfrom\u001B[39;00m\u001B[38;5;250m \u001B[39m\u001B[38;5;28;01mNone\u001B[39;00m\n\u001B[32m   1321\u001B[39m \u001B[38;5;28;01mexcept\u001B[39;00m \u001B[38;5;167;01mException\u001B[39;00m:\n\u001B[32m   1322\u001B[39m     \u001B[38;5;28mself\u001B[39m.log.warning(\u001B[33m\"\u001B[39m\u001B[33mInvalid Message:\u001B[39m\u001B[33m\"\u001B[39m, exc_info=\u001B[38;5;28;01mTrue\u001B[39;00m)\n",
      "\u001B[31mKeyboardInterrupt\u001B[39m: Interrupted by user"
     ]
    }
   ],
   "execution_count": 1
  },
  {
   "cell_type": "markdown",
   "id": "2b78485c-865a-4408-8578-443f0985983c",
   "metadata": {},
   "source": [
    "2. Write a program that accepts a list from user. Your program should reverse the content of list and\n",
    "display it. Do not use reverse() method."
   ]
  },
  {
   "cell_type": "code",
   "execution_count": null,
   "id": "35a3afd9-0124-48ca-a8ec-f259d5100aab",
   "metadata": {},
   "outputs": [],
   "source": [
    "my_list = input(\"Enter elements of list separated by space: \").split()\n",
    "reversed_list = []\n",
    "for i in range(len(my_list) - 1, -1, -1):\n",
    "    reversed_list.append(my_list[i])\n",
    "print(\"Reversed list:\", reversed_list)\n"
   ]
  },
  {
   "cell_type": "markdown",
   "id": "4b2d6bb3-46e8-4d98-abfb-d7595bd8e49a",
   "metadata": {},
   "source": [
    " 3. Find and display the largest number of a list without using built-in function max(). Your program\n",
    "should ask the user to input values in list from keyboard. \n"
   ]
  },
  {
   "cell_type": "code",
   "execution_count": null,
   "id": "7b4e9a50-5863-4d93-9b6d-91d04692b04f",
   "metadata": {},
   "outputs": [],
   "source": [
    "my_list = input(\"Enter numbers separated by space: \").split()\n",
    "my_list = [int(x) for x in my_list]\n",
    "largest = my_list[0]\n",
    "for num in my_list:\n",
    "    if num > largest:\n",
    "        largest = num\n",
    "print(\"The largest number is:\", largest)\n"
   ]
  },
  {
   "cell_type": "markdown",
   "id": "2927e2da-5f47-470f-9beb-5ebf37c2b6e1",
   "metadata": {},
   "source": [
    " 4. Write a program that rotates the element of a list so that the element at the first index moves to the\n",
    "second index, the element in the second index moves to the third index, etc., and the element in the last\n",
    "index moves to the first index. \n"
   ]
  },
  {
   "cell_type": "code",
   "execution_count": null,
   "id": "f92db290-d78f-440f-8119-b74d75ee460c",
   "metadata": {},
   "outputs": [],
   "source": [
    "my_list = input(\"Enter elements of list separated by space: \").split()\n",
    "last = my_list[-1]\n",
    "for i in range(len(my_list) - 1, 0, -1):\n",
    "    my_list[i] = my_list[i - 1]\n",
    "my_list[0] = last\n",
    "print(\"List after rotation:\", my_list)\n"
   ]
  },
  {
   "cell_type": "markdown",
   "id": "1266314b-e475-4759-a9ab-3fa38aba6cee",
   "metadata": {},
   "source": [
    "5. Write a program that input a string and ask user to delete a given word from a string."
   ]
  },
  {
   "cell_type": "code",
   "execution_count": null,
   "id": "64224fdd-717c-42eb-86fd-4490d6a3128e",
   "metadata": {},
   "outputs": [],
   "source": [
    "text = input(\"Enter a string: \")\n",
    "word = input(\"Enter the word you want to delete: \")\n",
    "new_text = text.replace(word, \"\")\n",
    "print(\"String after deleting the word:\", new_text)\n"
   ]
  },
  {
   "cell_type": "markdown",
   "id": "e69a9b1b-879d-49e3-a2c8-4c86434bbb9d",
   "metadata": {},
   "source": [
    " 6. Write a program that reads a string from the user containing a date in the form mm/dd/yyyy. It\n",
    "should print the date in the form March 12, 2021"
   ]
  },
  {
   "cell_type": "code",
   "execution_count": null,
   "id": "44f01ab0-2bbc-4644-b990-e54d91769473",
   "metadata": {},
   "outputs": [],
   "source": [
    "date = input(\"Enter date (mm/dd/yyyy): \")\n",
    "\n",
    "month = int(date[0:2])\n",
    "day = date[3:5]\n",
    "year = date[6:]\n",
    "\n",
    "months = [\"January\", \"February\", \"March\", \"April\", \"May\", \"June\",\n",
    "          \"July\", \"August\", \"September\", \"October\", \"November\", \"December\"]\n",
    "\n",
    "print(months[month-1], day + \",\", year)"
   ]
  },
  {
   "cell_type": "markdown",
   "id": "0bd07947-f431-4bd4-ab08-2a3923d60381",
   "metadata": {},
   "source": [
    "7. Write a program with a function that accepts a string from keyboard and create a new string after\n",
    "converting character of each word capitalized. For instance, if the sentence is \"stop and smell the roses.\"\n",
    "the output should be \"Stop And Smell The Roses\" "
   ]
  },
  {
   "cell_type": "code",
   "execution_count": null,
   "id": "f51d2a4a-9889-4733-a333-e1c066baab92",
   "metadata": {},
   "outputs": [],
   "source": [
    "def capitalize_words(text):\n",
    "    words = text.split()\n",
    "    new_words = []\n",
    "    for word in words:\n",
    "        new_words.append(word.capitalize())\n",
    "    return \" \".join(new_words)\n",
    "\n",
    "sentence = input(\"Enter a sentence: \")\n",
    "print(\"Converted string:\", capitalize_words(sentence))\n"
   ]
  }
 ],
 "metadata": {
  "kernelspec": {
   "display_name": "Python 3 (ipykernel)",
   "language": "python",
   "name": "python3"
  },
  "language_info": {
   "codemirror_mode": {
    "name": "ipython",
    "version": 3
   },
   "file_extension": ".py",
   "mimetype": "text/x-python",
   "name": "python",
   "nbconvert_exporter": "python",
   "pygments_lexer": "ipython3",
   "version": "3.13.6"
  }
 },
 "nbformat": 4,
 "nbformat_minor": 5
}
