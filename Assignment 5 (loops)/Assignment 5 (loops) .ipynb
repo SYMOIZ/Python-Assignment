{
 "cells": [
  {
   "cell_type": "markdown",
   "id": "00f9a5da-95ee-4c74-af96-7cf70db1f7f8",
   "metadata": {},
   "source": [
    "1. Write a Python program to print the numbers from 1 to 10 using a for loop. \n"
   ]
  },
  {
   "cell_type": "code",
   "execution_count": null,
   "id": "ce5c3c10-4f5e-40fc-bfbb-fc2bc818c680",
   "metadata": {},
   "outputs": [],
   "source": [
    "for i in range(1, 11):\n",
    "        print(i,end=\" \")"
   ]
  },
  {
   "cell_type": "markdown",
   "id": "709c7713-3463-4936-b5d9-cd59e567ed8e",
   "metadata": {},
   "source": [
    "2. Write a Python program to print the numbers from 20 to 1 using a while loop.\n"
   ]
  },
  {
   "cell_type": "code",
   "execution_count": null,
   "id": "e4098a63-aa5c-4e4f-a3f8-d1f45cff48e5",
   "metadata": {},
   "outputs": [],
   "source": [
    "i = 20\n",
    "while i >= 1:\n",
    "    print(i,end=\" \")\n",
    "    i -= 1"
   ]
  },
  {
   "cell_type": "markdown",
   "id": "32f5d44f-4c5f-412f-bfa6-48f228499cb5",
   "metadata": {},
   "source": [
    "3. Write a program to print even numbers from 1 to 10. \n"
   ]
  },
  {
   "cell_type": "code",
   "execution_count": null,
   "id": "8a24c418-0fbd-463e-bf39-66345cb9e9ee",
   "metadata": {},
   "outputs": [],
   "source": [
    "for i in range(1, 11):\n",
    "    if i % 2 == 0:\n",
    "        print(i)"
   ]
  },
  {
   "cell_type": "markdown",
   "id": "114eef54-104c-4638-9170-da216984636a",
   "metadata": {},
   "source": [
    "4. Write a program that prompts the user to enter a number n and prints all the\n",
    "numbers from 1 to n"
   ]
  },
  {
   "cell_type": "code",
   "execution_count": null,
   "id": "cb29963a-5d09-4d42-a4d7-736ae7001950",
   "metadata": {},
   "outputs": [],
   "source": [
    "n = int(input(\"Enter a number: \"))\n",
    "for i in range(1, n+1):\n",
    "    print(i)"
   ]
  },
  {
   "cell_type": "markdown",
   "id": "d20c3c32-d5a4-42ab-97d8-7b4ff42277cb",
   "metadata": {},
   "source": [
    "5. Write a program that prompts the user to enter a number n, and then prints all the\n",
    "odd numbers between 1 and n. "
   ]
  },
  {
   "cell_type": "code",
   "execution_count": null,
   "id": "062f7187-8144-4824-a120-881ab8af2e1f",
   "metadata": {},
   "outputs": [],
   "source": [
    "n = int(input(\"Enter a number: \"))\n",
    "for i in range(1, n+1):\n",
    "    if i % 2 != 0:\n",
    "        print(i)"
   ]
  },
  {
   "cell_type": "markdown",
   "id": "36ec042d-32a8-4e06-a510-7ab2ee461870",
   "metadata": {},
   "source": [
    "6. Write a program that prints 'Happy Birthday!' five times on screen. "
   ]
  },
  {
   "cell_type": "code",
   "execution_count": null,
   "id": "4382a2f7-8430-42b4-80b1-932f9469b69a",
   "metadata": {},
   "outputs": [],
   "source": [
    "for i in range(5):\n",
    "    print(\"Happy Birthday!\")"
   ]
  },
  {
   "cell_type": "markdown",
   "id": "017ffe5e-48cb-4e5f-ad27-95301b0a9952",
   "metadata": {},
   "source": [
    "7. Write a program that takes a number n as input from the user and generates the first\n",
    "n terms of the series formed by squaring the natural numbers.\n",
    "Sample output\n",
    "Enter a number: 6\n",
    "The first 6 terms of the series are:\n",
    "1 4 9 16 25 36 \n"
   ]
  },
  {
   "cell_type": "code",
   "execution_count": null,
   "id": "fff32cf3-12ab-45f9-8772-40338e762903",
   "metadata": {},
   "outputs": [],
   "source": [
    "n = int(input(\"Enter a number: \"))\n",
    "print(\"The first\", n, \"terms of the series are:\")\n",
    "for i in range(1, n+1):\n",
    "    print(i * i, end=\" \")"
   ]
  },
  {
   "cell_type": "markdown",
   "id": "d1f72009-6200-4ffb-bf08-47bbdcfed9a8",
   "metadata": {},
   "source": [
    "8. Write a program that prompts the user to input a number and prints its multiplication\n",
    "table. "
   ]
  },
  {
   "cell_type": "code",
   "execution_count": null,
   "id": "0b7f4e06-1f21-49e7-ba1d-a6e375d2bc45",
   "metadata": {},
   "outputs": [],
   "source": [
    "n = int(input(\"Enter a number: \"))\n",
    "for i in range(1, 11):\n",
    "    print(n, \"x\", i, \"=\", n * i)"
   ]
  },
  {
   "cell_type": "markdown",
   "id": "4b753e34-da6e-40a3-905a-9361a9a267e5",
   "metadata": {},
   "source": [
    "9. Write a Python program to print the first 8 terms of an arithmetic progression starting\n",
    "with 3 and having a common difference of 4.\n",
    "The program should output the following sequence:\n",
    "3 7 11 15 19 23 27 31"
   ]
  },
  {
   "cell_type": "code",
   "execution_count": null,
   "id": "6e79b8de-ca6b-4711-9e4c-43c1c385e57b",
   "metadata": {},
   "outputs": [],
   "source": [
    "a = 3\n",
    "d = 4\n",
    "for i in range(8):\n",
    "    print(a + i*d, end=\" \")"
   ]
  },
  {
   "cell_type": "markdown",
   "id": "f502922f-f239-45c5-a20e-425968fbee8d",
   "metadata": {},
   "source": [
    "10. Write a Python program to print the first 6 terms of a geometric sequence starting\n",
    "with 2 and having a common ratio of 3.\n",
    "The program should output the following sequence:\n",
    "2 6 18 54 162 486 "
   ]
  },
  {
   "cell_type": "code",
   "execution_count": null,
   "id": "3165d029-362c-456f-8d68-14bb1df2c7d2",
   "metadata": {},
   "outputs": [],
   "source": [
    "a = 2\n",
    "r = 3\n",
    "term = a\n",
    "for i in range(6):\n",
    "    print(term, end=\" \")\n",
    "    term = term * r"
   ]
  },
  {
   "cell_type": "markdown",
   "id": "5b889f94-9a27-47b4-a416-054389a28490",
   "metadata": {},
   "source": [
    "11. Write a program that asks the user for a positive integer value. The program should\n",
    "calculate the sum of all the integers from 1 up to the number entered. For example, if\n",
    "the user enters 20, the loop will find the sum of 1, 2, 3, 4, ... 20. \n"
   ]
  },
  {
   "cell_type": "code",
   "execution_count": null,
   "id": "4ff26dc7-679d-4a94-bf3b-2890320ea0ca",
   "metadata": {},
   "outputs": [],
   "source": [
    "n = int(input(\"Enter a positive integer: \"))\n",
    "total = 0\n",
    "for i in range(1, n+1):\n",
    "    total = total + i\n",
    "print(\"The sum is:\", total)"
   ]
  },
  {
   "cell_type": "markdown",
   "id": "8258662f-9438-4c67-9948-51c89d71cc32",
   "metadata": {},
   "source": [
    "12. write a program that takes a positive integer N as input and calculates the sum of\n",
    "the reciprocals of all numbers from 1 up to N. The program should display the final sum.\n",
    "Output of the program should be like:\n",
    "Enter a positive integer: 5\n",
    "The sum of reciprocals from 1 to 5 is: 2.28"
   ]
  },
  {
   "cell_type": "code",
   "execution_count": null,
   "id": "f008bbba-7d17-48be-950e-cfb64f87609a",
   "metadata": {},
   "outputs": [],
   "source": [
    "n = int(input(\"Enter a positive integer: \"))\n",
    "total = 0\n",
    "for i in range(1, n+1):\n",
    "    total = total + 1/i\n",
    "print(\"The sum of reciprocals from 1 to\", n, \"is:\", round(total, 2))"
   ]
  },
  {
   "cell_type": "markdown",
   "id": "19afbbef-2bac-4d1d-b501-2d9a1374c09d",
   "metadata": {},
   "source": [
    "13. Write a program that prompts the user to enter a number and repeats this process 5\n",
    "times. The program should accumulate the numbers entered and then display the final\n",
    "running total.\n",
    "Sample Output:\n",
    "Enter a number: 10\n",
    "Enter a number: 15\n",
    "Enter a number: 35\n",
    "Enter a number: 40\n",
    "Enter a number: 50\n",
    "The final running total is: 150 "
   ]
  },
  {
   "cell_type": "code",
   "execution_count": null,
   "id": "f99dd3ce-dfa2-4a1a-a47d-0f8415d56109",
   "metadata": {},
   "outputs": [],
   "source": [
    "total = 0\n",
    "for i in range(5):\n",
    "    num = int(input(\"Enter a number: \"))\n",
    "    total = total + num\n",
    "print(\"The final running total is:\", total)"
   ]
  },
  {
   "cell_type": "markdown",
   "id": "0c199a63-595f-4dc7-a30e-435441737b6f",
   "metadata": {},
   "source": [
    "14. Write a program that prompts the user to enter a positive integer and calculates its\n",
    "factorial. The factorial of a positive integer 'n' is denoted as 'n!' and is calculated by\n",
    "multiplying all the integers from 1 to 'n' together. For example, the factorial of 5\n",
    "(denoted as 5!) is calculated as 1 x 2 x 3 x 4 x 5.\n",
    "    \n",
    "The program should display the factorial value if the input is a positive number, or\n",
    "display a message stating that the factorial does not exist for negative numbers.\n",
    "Additionally, for an input of zero, the program should output that the factorial of 0 is 1. "
   ]
  },
  {
   "cell_type": "code",
   "execution_count": null,
   "id": "32149245-945d-42f5-8b53-71e9f7170298",
   "metadata": {},
   "outputs": [],
   "source": [
    "n = int(input(\"Enter a number: \"))\n",
    "\n",
    "if n < 0:\n",
    "    print(\"Factorial does not exist for negative numbers\")\n",
    "elif n == 0:\n",
    "    print(\"The factorial of 0 is 1\")\n",
    "else:\n",
    "    fact = 1\n",
    "    for i in range(1, n+1):\n",
    "        fact = fact * i\n",
    "    print(\"The factorial of\", n, \"is:\", fact)"
   ]
  },
  {
   "cell_type": "markdown",
   "id": "6cee9066-5a20-4aa4-83ab-adb1e7958ef5",
   "metadata": {},
   "source": [
    "15. Write a Python program that prompts the user to enter a base number and an\n",
    "exponent, and then calculates the power of the base to the exponent. The program\n",
    "should not use the exponentiation operator (**) or the math.pow() function. The\n",
    "program should handle both positive and negative exponents. "
   ]
  },
  {
   "cell_type": "code",
   "execution_count": null,
   "id": "82fa867a-1648-4e6b-8071-f001e17f0564",
   "metadata": {},
   "outputs": [],
   "source": [
    "base = int(input(\"Enter base: \"))\n",
    "exp = int(input(\"Enter exponent: \"))\n",
    "\n",
    "result = 1\n",
    "\n",
    "if exp >= 0:\n",
    "    for i in range(exp):\n",
    "        result = result * base\n",
    "else:\n",
    "    for i in range(-exp):\n",
    "        result = result * base\n",
    "    result = 1 / result\n",
    "\n",
    "print(\"Result:\", result)"
   ]
  }
 ],
 "metadata": {
  "kernelspec": {
   "display_name": "Python 3 (ipykernel)",
   "language": "python",
   "name": "python3"
  },
  "language_info": {
   "codemirror_mode": {
    "name": "ipython",
    "version": 3
   },
   "file_extension": ".py",
   "mimetype": "text/x-python",
   "name": "python",
   "nbconvert_exporter": "python",
   "pygments_lexer": "ipython3",
   "version": "3.13.6"
  }
 },
 "nbformat": 4,
 "nbformat_minor": 5
}
