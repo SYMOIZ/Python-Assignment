{
 "cells": [
  {
   "cell_type": "markdown",
   "id": "7e2ff47d-000b-4e3c-b1d3-a08d9047da7e",
   "metadata": {},
   "source": [
    "1. Write a program that accepts a string from user. Your program should count and display number of\n",
    "vowels in that string. \n"
   ]
  },
  {
   "cell_type": "code",
   "execution_count": 3,
   "id": "e38c5603-5c6b-4197-94ac-7168e380d21f",
   "metadata": {},
   "outputs": [
    {
     "name": "stdin",
     "output_type": "stream",
     "text": [
      "Enter the Alphabet :  hello world\n"
     ]
    },
    {
     "name": "stdout",
     "output_type": "stream",
     "text": [
      "The Vowle Count is : A : 0 , E 1 ,I 0, O 2 ,U 0\n",
      "The total count is : , 3\n"
     ]
    }
   ],
   "source": [
    "x = input(\"Enter the Alphabet : \")\n",
    "\n",
    "x = x.lower()\n",
    "\n",
    "a = x.count(\"a\")\n",
    "e = x.count(\"e\")\n",
    "i = x.count(\"i\")\n",
    "o = x.count(\"o\")\n",
    "u = x.count(\"u\")\n",
    "\n",
    "\n",
    "v = [ a , e, i ,o ,u ]\n",
    "total = a + e + i + o + u\n",
    "\n",
    "print(f\"The Vowle Count is : A : {a} , E {e} ,I {i}, O {o} ,U {u}\")\n",
    "print(f\"The total count is : , {total}\")"
   ]
  },
  {
   "cell_type": "markdown",
   "id": "a3382fa2-7494-447d-80fa-80579b6853b6",
   "metadata": {},
   "source": [
    " 2. Write a program that reads a string from keyboard and display:\n",
    "* The number of uppercase letters in the string\n",
    "* The number of lowercase letters in the string\n",
    "* The number of digits in the string\n",
    "* The number of whitespace characters in the string \n"
   ]
  },
  {
   "cell_type": "code",
   "execution_count": 1,
   "id": "6bc64d5e-e31a-47a6-b8ea-288588e26ecd",
   "metadata": {},
   "outputs": [
    {
     "name": "stdin",
     "output_type": "stream",
     "text": [
      "Enter the Sentence :  hello   KWJBNDK OSJ\n"
     ]
    },
    {
     "name": "stdout",
     "output_type": "stream",
     "text": [
      "The Capital Characters in Sentence is : , 10\n",
      "The Small Characters in Sentence is : , 5\n",
      "The Number Of Digits in Sentence is : , 0\n",
      "The Number of Spaces in Sentence is : , 4\n"
     ]
    }
   ],
   "source": [
    "x = input(\"Enter the Sentence : \")\n",
    "\n",
    "supper = 0\n",
    "lower = 0\n",
    "digits = 0\n",
    "spaces = 0\n",
    "\n",
    "for ch in x:\n",
    "     if ch.isupper():\n",
    "        supper += 1\n",
    "     elif ch.islower():\n",
    "         lower += 1\n",
    "     elif ch.isdigit():\n",
    "        digits += 1\n",
    "     elif ch.isspace():\n",
    "         spaces += 1\n",
    "\n",
    "print(f\"The Capital Characters in Sentence is : , {supper}\")\n",
    "print(f\"The Small Characters in Sentence is : , {lower}\")\n",
    "print(f\"The Number Of Digits in Sentence is : , {digits}\")\n",
    "print(f\"The Number of Spaces in Sentence is : , {spaces}\")\n"
   ]
  },
  {
   "cell_type": "markdown",
   "id": "8c018fed-f762-4335-907a-cac7561960d6",
   "metadata": {},
   "source": [
    " 3. Write a Python program that accepts a string from user. Your program should create and display a\n",
    "new string where the first and last characters have been exchanged\n",
    "\n",
    "For example if the user enters the string 'HELLO' then new string would be 'OELLH' \n"
   ]
  },
  {
   "cell_type": "code",
   "execution_count": 16,
   "id": "d8c68229-0c6e-4ff1-9f83-f6f2e26a9c00",
   "metadata": {},
   "outputs": [
    {
     "name": "stdin",
     "output_type": "stream",
     "text": [
      "enter the number hello\n"
     ]
    },
    {
     "name": "stdout",
     "output_type": "stream",
     "text": [
      "The Word is oellh\n"
     ]
    }
   ],
   "source": [
    "x = input(\"enter the number\")\n",
    "v = x[0]\n",
    "z = x[-1]\n",
    "m = x[1:-1]\n",
    "print(f\"The Word is {z}{m}{v}\")"
   ]
  },
  {
   "cell_type": "markdown",
   "id": "e47909a4-069b-465e-8cd1-cd7ccd1b6c6c",
   "metadata": {},
   "source": [
    " 4. Write a Python program that accepts a string from user. Your program should create a new string in\n",
    "reverse of first string and display it.\n",
    "For example if the user enters the string 'EXAM' then new string would be 'MAXE'"
   ]
  },
  {
   "cell_type": "code",
   "execution_count": 5,
   "id": "038b8658-a0ee-440e-9cc8-81ba9d57302b",
   "metadata": {},
   "outputs": [
    {
     "name": "stdin",
     "output_type": "stream",
     "text": [
      "Enter The Sentence : hello world\n"
     ]
    },
    {
     "name": "stdout",
     "output_type": "stream",
     "text": [
      "dlrow olleh\n"
     ]
    }
   ],
   "source": [
    "x = input(\"Enter The Sentence :\")\n",
    "y = x[::-1]\n",
    "print(y)"
   ]
  },
  {
   "cell_type": "markdown",
   "id": "488bdd10-b15e-43a5-97df-7e5aca7ae4f3",
   "metadata": {},
   "source": [
    " 5. Write a Python program that accepts a string from user. Your program should create a new string by\n",
    "shifting one position to left.\n",
    "For example if the user enters the string 'examination 2021' then new string would be 'xamination\n",
    "2021e'"
   ]
  },
  {
   "cell_type": "code",
   "execution_count": 12,
   "id": "28bbc132-6011-415e-a1f0-c3a27e6e28c0",
   "metadata": {},
   "outputs": [
    {
     "name": "stdin",
     "output_type": "stream",
     "text": [
      "enter the sentence :  hello\n"
     ]
    },
    {
     "name": "stdout",
     "output_type": "stream",
     "text": [
      "teh sentence is elloh\n"
     ]
    }
   ],
   "source": [
    "x = input(\"enter the sentence : \")\n",
    "start = x[1:] \n",
    "end = x[0]\n",
    "print(f\"teh sentence is {start}{end}\")"
   ]
  },
  {
   "cell_type": "markdown",
   "id": "7a2998f3-44d0-4e85-90cc-b34081ffdf3f",
   "metadata": {},
   "source": [
    " 6. Write a program that asks the user to input his name and print its initials. Assuming that the user\n",
    "always types first name, middle name and last name and does not include any unnecessary spaces.\n",
    "For example, if the user enters Ajay Kumar Garg the program should display A. K. G.\n",
    "Note:Don't use split() method"
   ]
  },
  {
   "cell_type": "code",
   "execution_count": 24,
   "id": "04033b4a-883b-4a3e-b42a-fb18ad308877",
   "metadata": {},
   "outputs": [
    {
     "name": "stdin",
     "output_type": "stream",
     "text": [
      "Enter Your First Name :  syed\n",
      "Enter Your Middle Name : moiz\n",
      "Enter Your last Name : musharraf\n"
     ]
    },
    {
     "name": "stdout",
     "output_type": "stream",
     "text": [
      "The Name is S.M.M.\n"
     ]
    }
   ],
   "source": [
    "first = input(\"Enter Your First Name : \")\n",
    "middle = input(\"Enter Your Middle Name :\")\n",
    "last = input(\"Enter Your last Name :\")\n",
    "\n",
    "s = first[0].upper()\n",
    "v = middle[0].upper()\n",
    "w = last[0].upper()\n",
    "\n",
    "print(f\"The Name is {s}.{v}.{w}.\")"
   ]
  },
  {
   "cell_type": "markdown",
   "id": "df74cfde-4753-4843-addd-b03dfd89f6c1",
   "metadata": {},
   "source": [
    "7. A palindrome is a string that reads the same backward as forward. For example, the words dad,\n",
    "madam and radar are all palindromes. Write a programs that determines whether the string is a\n",
    "palindrome.\n",
    "Note: do not use reverse() method\n"
   ]
  },
  {
   "cell_type": "code",
   "execution_count": 4,
   "id": "83b922d9-f1db-4781-9b0b-3a778c5c2323",
   "metadata": {},
   "outputs": [
    {
     "name": "stdin",
     "output_type": "stream",
     "text": [
      "enter the word hello world\n"
     ]
    },
    {
     "name": "stdout",
     "output_type": "stream",
     "text": [
      "The Same Fowrward Message is , hello world\n",
      "The Reverse Message is , dlrow olleh\n"
     ]
    }
   ],
   "source": [
    "x = input(\"enter the word\")\n",
    "\n",
    "v = x[::-1]\n",
    "print(f\"The Same Fowrward Message is , {x}\")\n",
    "print(f\"The Reverse Message is , {v}\")"
   ]
  },
  {
   "cell_type": "markdown",
   "id": "375a7150-eac1-46ce-ab33-d5697bc6854d",
   "metadata": {},
   "source": [
    "8. Write a program that display following output:\n",
    "SHIFT\n",
    "HIFTS\n",
    "IFTSH\n",
    "FTSHI\n",
    "TSHIF\n",
    "SHIFT \n"
   ]
  },
  {
   "cell_type": "code",
   "execution_count": 12,
   "id": "01131753-566f-4189-b523-8072a99a2c29",
   "metadata": {},
   "outputs": [
    {
     "name": "stdout",
     "output_type": "stream",
     "text": [
      "HIF\n"
     ]
    }
   ],
   "source": [
    "x = \"SHIFT\"\n",
    "\n",
    "b = x[0]\n",
    "\n",
    "\n",
    "print(f\")"
   ]
  },
  {
   "cell_type": "markdown",
   "id": "fab830d0-c31d-47dc-a52b-d05f9ce1e7ab",
   "metadata": {},
   "source": [
    " 9. Write a program in python that accepts a string to setup a passwords. Your entered password must\n",
    "meet the following requirements: \n",
    "\n",
    "The password must be at least eight characters long.\n",
    "It must contain at least one uppercase letter.\n",
    "It must contain at least one lowercase letter.\n",
    "It must contain at least one numeric digit.\n",
    "Your program should should perform this validation. "
   ]
  },
  {
   "cell_type": "code",
   "id": "024b08f8-979f-450c-984e-420b3f8a0952",
   "metadata": {
    "ExecuteTime": {
     "end_time": "2025-10-04T15:02:16.476330Z",
     "start_time": "2025-10-04T15:02:11.658873Z"
    }
   },
   "source": [
    "password = input(\"Enter your password: \")\n",
    "\n",
    "if len(password) < 8:\n",
    "    print(\"Password must be at least 8 characters long.\")\n",
    "elif not any(ch.isupper() for ch in password):\n",
    "    print(\"Password must contain at least one uppercase letter.\")\n",
    "elif not any(ch.islower() for ch in password):\n",
    "    print(\"Password must contain at least one lowercase letter.\")\n",
    "elif not any(ch.isdigit() for ch in password):\n",
    "    print(\"Password must contain at least one number.\")\n",
    "else:\n",
    "    print(\"Password is valid!\")"
   ],
   "outputs": [
    {
     "name": "stdout",
     "output_type": "stream",
     "text": [
      "Password must be at least 8 characters long.\n"
     ]
    }
   ],
   "execution_count": 1
  },
  {
   "metadata": {
    "ExecuteTime": {
     "end_time": "2025-10-04T15:02:17.059417Z",
     "start_time": "2025-10-04T15:02:16.581424Z"
    }
   },
   "cell_type": "code",
   "source": "www\n",
   "id": "5856c59f60cab5d5",
   "outputs": [
    {
     "ename": "NameError",
     "evalue": "name 'www' is not defined",
     "output_type": "error",
     "traceback": [
      "\u001B[31m---------------------------------------------------------------------------\u001B[39m",
      "\u001B[31mNameError\u001B[39m                                 Traceback (most recent call last)",
      "\u001B[36mCell\u001B[39m\u001B[36m \u001B[39m\u001B[32mIn[2]\u001B[39m\u001B[32m, line 1\u001B[39m\n\u001B[32m----> \u001B[39m\u001B[32m1\u001B[39m \u001B[43mwww\u001B[49m\n",
      "\u001B[31mNameError\u001B[39m: name 'www' is not defined"
     ]
    }
   ],
   "execution_count": 2
  },
  {
   "metadata": {},
   "cell_type": "code",
   "outputs": [],
   "execution_count": null,
   "source": "",
   "id": "567146e07cb5538e"
  }
 ],
 "metadata": {
  "kernelspec": {
   "display_name": "Python 3 (ipykernel)",
   "language": "python",
   "name": "python3"
  },
  "language_info": {
   "codemirror_mode": {
    "name": "ipython",
    "version": 3
   },
   "file_extension": ".py",
   "mimetype": "text/x-python",
   "name": "python",
   "nbconvert_exporter": "python",
   "pygments_lexer": "ipython3",
   "version": "3.13.6"
  }
 },
 "nbformat": 4,
 "nbformat_minor": 5
}
